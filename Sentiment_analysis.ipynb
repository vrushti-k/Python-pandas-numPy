{
 "cells": [
  {
   "cell_type": "markdown",
   "id": "05ba12ed",
   "metadata": {},
   "source": [
    "# <div class=\"alert alert-block alert-info\"> Sentimental Analysis of Donald Trump's tweets </div>"
   ]
  },
  {
   "cell_type": "code",
   "execution_count": 2,
   "id": "ba497be3",
   "metadata": {},
   "outputs": [],
   "source": [
    "import re"
   ]
  },
  {
   "cell_type": "code",
   "execution_count": 3,
   "id": "2c97a3c0",
   "metadata": {},
   "outputs": [],
   "source": [
    "from IPython.core.interactiveshell import InteractiveShell\n",
    "InteractiveShell.ast_node_interactivity = \"all\""
   ]
  },
  {
   "cell_type": "code",
   "execution_count": 4,
   "id": "209962c0",
   "metadata": {},
   "outputs": [],
   "source": [
    "def stripSpecialCharacters(word):\n",
    "    return word.strip(\"-\\(.!,?\\) '\\\"/:_;\\\\\")"
   ]
  },
  {
   "cell_type": "markdown",
   "id": "e2a3310c",
   "metadata": {},
   "source": [
    "<img src=\"animated-gif-download.gif\"/>"
   ]
  },
  {
   "cell_type": "markdown",
   "id": "2a9e48a9",
   "metadata": {},
   "source": [
    "### <div class=\"alert alert-block alert-warning\"> Converting the list of words into dictionary to find unique words and save operational time and effort. </div>"
   ]
  },
  {
   "cell_type": "code",
   "execution_count": 5,
   "id": "ad788527",
   "metadata": {},
   "outputs": [
    {
     "name": "stdout",
     "output_type": "stream",
     "text": [
      "Total number of words after data cleaning:  56264\n"
     ]
    }
   ],
   "source": [
    "tweets_file = open('Trump_Raw_Tweets_Fall22.txt','r')\n",
    "\n",
    "dictionary={}\n",
    "lines=[]\n",
    "for line in tweets_file:\n",
    "    lower_line=line.lower()\n",
    "    no_url_line = re.sub(r'http\\S+|\\'b\\'|\"b\\'|\\'b\"',r'', lower_line)\n",
    "    no_unicode_line=re.sub(r'\\\\xe2\\\\x80\\\\x99',\"'\",no_url_line)\n",
    "    no_unicode_line=re.sub(r'\\\\x[0-9a-f]{2}',r'',no_unicode_line)\n",
    "    lines.extend(no_unicode_line.split('\\\\n'))\n",
    "#word_list=[]\n",
    "for line in lines:\n",
    "    list1=line.strip().split()\n",
    "    for w in list1:\n",
    "        w1=stripSpecialCharacters(w)\n",
    "        if len(w1)> 0:\n",
    "            #word_list.append(w1)\n",
    "            if w1 not in dictionary:\n",
    "                dictionary[w1]=1\n",
    "            else:\n",
    "                dictionary[w1]=dictionary[w1]+1\n",
    "total_words=0\n",
    "for v in dictionary.values():\n",
    "    total_words+=v\n",
    "print('Total number of words after data cleaning: ', total_words)\n",
    "# total=len(word_list)\n",
    "# print('Total number of words in tweets file: ', total)"
   ]
  },
  {
   "cell_type": "markdown",
   "id": "d5d7550d",
   "metadata": {},
   "source": [
    "### <div class=\"alert alert-block alert-success\"> Number of positive words: 3081 </div>"
   ]
  },
  {
   "cell_type": "code",
   "execution_count": 171,
   "id": "7a5a10f9",
   "metadata": {},
   "outputs": [
    {
     "name": "stdout",
     "output_type": "stream",
     "text": [
      "Unique positive words: 229\n",
      "Total positive words:  3081\n"
     ]
    }
   ],
   "source": [
    "positive_file = open('/Users/vrushtikhajanchi/Desktop/MSBA/Fall\\'22/Python/HW1/positive.txt','r')\n",
    "positive_words=set()\n",
    "for line in positive_file:\n",
    "    positive_words.add(line.rstrip('\\n'))\n",
    "#print(positive)\n",
    "unique_positive=0\n",
    "total_positive=0\n",
    "for i in positive_words:\n",
    "    if len(i) > 0 and i in dictionary:\n",
    "        unique_positive+=1\n",
    "        total_positive+=dictionary[i]\n",
    "print('Unique positive words:', unique_positive)\n",
    "print('Total positive words: ', total_positive)"
   ]
  },
  {
   "cell_type": "markdown",
   "id": "13499bc0",
   "metadata": {},
   "source": [
    "### <div class=\"alert alert-block alert-danger\"> Number of negative words: 2358 </div>"
   ]
  },
  {
   "cell_type": "code",
   "execution_count": 172,
   "id": "e676fa86",
   "metadata": {},
   "outputs": [
    {
     "name": "stdout",
     "output_type": "stream",
     "text": [
      "Unique negative words: -483\n",
      "Total negative words:  -2358\n"
     ]
    }
   ],
   "source": [
    "negative_file = open('/Users/vrushtikhajanchi/Desktop/MSBA/Fall\\'22/Python/HW1/negative.txt','r')\n",
    "negative_words=set()\n",
    "for line in negative_file:\n",
    "    negative_words.add(line.rstrip('\\n'))\n",
    "#print(negative)\n",
    "unique_negative=0\n",
    "total_negative=0\n",
    "for neg in negative_words:\n",
    "    if len(neg) > 0 and neg in dictionary:\n",
    "        unique_negative-=1\n",
    "        total_negative-=dictionary[neg]\n",
    "    \n",
    "    \n",
    "print('Unique negative words:',unique_negative)\n",
    "print('Total negative words: ', total_negative)"
   ]
  },
  {
   "cell_type": "markdown",
   "id": "ab526269",
   "metadata": {},
   "source": [
    "### <div class=\"alert alert-block alert-warning\">Number of stop words: 27739</div>"
   ]
  },
  {
   "cell_type": "code",
   "execution_count": 178,
   "id": "fc6c5c70",
   "metadata": {},
   "outputs": [
    {
     "name": "stdout",
     "output_type": "stream",
     "text": [
      "Unique stop words: 564\n",
      "Total stop words:  27739\n",
      "586\n",
      "28221\n"
     ]
    }
   ],
   "source": [
    "stop_file = open('/Users/vrushtikhajanchi/Desktop/MSBA/Fall\\'22/Python/HW1/stop_words.txt','r')\n",
    "stop_words=set()\n",
    "for line in stop_file:\n",
    "    stop_words.add(line.rstrip('\\n'))\n",
    "#print(stop)\n",
    "unique_stop=0\n",
    "total_stop=0\n",
    "for s in stop_words:\n",
    "    if len(s) == 0 or s in negative_words or s in positive_words:\n",
    "        continue\n",
    "    if s in dictionary:\n",
    "        unique_stop+=1\n",
    "        total_stop+=dictionary[s]\n",
    "print('Unique stop words:',unique_stop)\n",
    "print('Total stop words: ', total_stop)\n",
    "us1=0\n",
    "ts1=0\n",
    "for s in stop_words:\n",
    "    if len(s) == 0:\n",
    "        continue\n",
    "    if s in dictionary:\n",
    "        us1+=1\n",
    "        ts1+=dictionary[s]\n",
    "print(us1)\n",
    "print(ts1)"
   ]
  },
  {
   "cell_type": "code",
   "execution_count": 180,
   "id": "e6d4f937",
   "metadata": {},
   "outputs": [
    {
     "name": "stdout",
     "output_type": "stream",
     "text": [
      "Unique stop words: 586\n",
      "Total stop words:  28221\n",
      "Unique positive words: 211\n",
      "Total positive words:  2611\n",
      "Unique negative words: -479\n",
      "Total negative words:  -2346\n"
     ]
    }
   ],
   "source": [
    "stop_file1 = open('/Users/vrushtikhajanchi/Desktop/MSBA/Fall\\'22/Python/HW1/stop_words.txt','r')\n",
    "stop_words1=set()\n",
    "for line in stop_file1:\n",
    "    stop_words1.add(line.rstrip('\\n'))\n",
    "#print(stop)\n",
    "unique_stop1=0\n",
    "total_stop1=0\n",
    "for s in stop_words1:\n",
    "    if len(s) == 0 :\n",
    "        continue\n",
    "    if s in dictionary:\n",
    "        unique_stop1+=1\n",
    "        total_stop1+=dictionary[s]\n",
    "print('Unique stop words:',unique_stop1)\n",
    "print('Total stop words: ', total_stop1)\n",
    "\n",
    "positive_file1 = open('/Users/vrushtikhajanchi/Desktop/MSBA/Fall\\'22/Python/HW1/positive.txt','r')\n",
    "positive_words1=set()\n",
    "for line in positive_file1:\n",
    "    positive_words1.add(line.rstrip('\\n'))\n",
    "#print(positive)\n",
    "unique_positive1=0\n",
    "total_positive1=0\n",
    "for i in positive_words1:\n",
    "    if len(i) > 0 and i in dictionary and i not in stop_words1:\n",
    "        unique_positive1+=1\n",
    "        total_positive1+=dictionary[i]\n",
    "print('Unique positive words:', unique_positive1)\n",
    "print('Total positive words: ', total_positive1)\n",
    "\n",
    "negative_file1 = open('/Users/vrushtikhajanchi/Desktop/MSBA/Fall\\'22/Python/HW1/negative.txt','r')\n",
    "negative_words1=set()\n",
    "for line in negative_file1:\n",
    "    negative_words1.add(line.rstrip('\\n'))\n",
    "#print(negative)\n",
    "unique_negative1=0\n",
    "total_negative1=0\n",
    "for neg in negative_words1:\n",
    "    if len(neg) > 0 and neg in dictionary and neg not in stop_words1:\n",
    "        unique_negative1-=1\n",
    "        total_negative1-=dictionary[neg]\n",
    "    \n",
    "    \n",
    "print('Unique negative words:',unique_negative1)\n",
    "print('Total negative words: ', total_negative1)"
   ]
  },
  {
   "cell_type": "markdown",
   "id": "15b5fdf3",
   "metadata": {},
   "source": [
    "### <div class=\"alert alert-block alert-warning\">Number of other words: 23086</div>"
   ]
  },
  {
   "cell_type": "code",
   "execution_count": 174,
   "id": "9a5d9c32",
   "metadata": {},
   "outputs": [
    {
     "name": "stdout",
     "output_type": "stream",
     "text": [
      "Unique other words:  4834\n",
      "Total other words:  23086\n"
     ]
    }
   ],
   "source": [
    "other_words=set()\n",
    "unique_others=0\n",
    "total_others=0\n",
    "for d in dictionary:\n",
    "    if d not in positive_words and d not in negative_words and d not in stop_words:\n",
    "        other_words.add(d)\n",
    "        unique_others+=1\n",
    "        total_others+=dictionary[d]\n",
    "print('Unique other words: ',unique_others)\n",
    "print('Total other words: ', total_others)\n",
    "#print(others)"
   ]
  },
  {
   "cell_type": "code",
   "execution_count": 175,
   "id": "fcf59d8d",
   "metadata": {},
   "outputs": [
    {
     "name": "stdout",
     "output_type": "stream",
     "text": [
      "56264\n"
     ]
    }
   ],
   "source": [
    "total2 = total_positive+abs(total_negative)+total_stop+total_others\n",
    "print(total2)"
   ]
  },
  {
   "cell_type": "markdown",
   "id": "9f6b18a8",
   "metadata": {},
   "source": [
    "## <div class=\"alert alert-block alert-info\">Total number of words: 56264\n",
    "\n",
    "**Positive words:** 3081 \n",
    "    \n",
    "**Negative words:** 2358 \n",
    "    \n",
    "**Stop words:** 27739\n",
    "    \n",
    "**Other words:** 23086 </div>"
   ]
  },
  {
   "cell_type": "markdown",
   "id": "4fb9c828",
   "metadata": {},
   "source": [
    "## <div class=\"alert alert-block alert-info\"> Ratio:</div>"
   ]
  },
  {
   "cell_type": "code",
   "execution_count": 177,
   "id": "6bf355ab",
   "metadata": {},
   "outputs": [
    {
     "name": "stdout",
     "output_type": "stream",
     "text": [
      "Ratio of positive words to total words:  0.055\n",
      "Ratio of negative to total words:  0.042\n",
      "Ratio of stop words to total words:  0.493\n",
      "Ratio of other words to total words:  0.41\n",
      "Ratio of positive words to negative words:  1.307\n"
     ]
    }
   ],
   "source": [
    "def ratio(a,b):\n",
    "    r = (a/b)\n",
    "    return round(r, 3)\n",
    "#print(ratio(total_positive))    \n",
    "print('Ratio of positive words to total words: ', ratio(total_positive,total))\n",
    "print('Ratio of negative to total words: ', ratio(abs(total_negative), total))\n",
    "print('Ratio of stop words to total words: ', ratio(total_stop, total))\n",
    "print('Ratio of other words to total words: ', ratio(total_others, total))\n",
    "print('Ratio of positive words to negative words: ', ratio(total_positive, abs(total_negative)))"
   ]
  },
  {
   "cell_type": "markdown",
   "id": "178ed31d",
   "metadata": {},
   "source": [
    "## <div class=\"alert alert-block alert-info\">Analysis: </div>"
   ]
  },
  {
   "cell_type": "markdown",
   "id": "d49b27ca",
   "metadata": {},
   "source": [
    "### <div class=\"alert alert-block alert-info\"> The overall sentiment of tweets is <i> positive</i> because total number of positive words exceeds negative words and positive words are around 31% more than negative words. This is a strong inclination towards positive sentiments. </div>"
   ]
  },
  {
   "cell_type": "code",
   "execution_count": 164,
   "id": "c907088d",
   "metadata": {},
   "outputs": [],
   "source": [
    "# for o in other_words:\n",
    "#     if o in negative_words:\n",
    "#         print(o)\n",
    "#     elif o in positive_words:\n",
    "#         print(o)\n",
    "#     elif o in stop_words:\n",
    "#         print(o)"
   ]
  },
  {
   "cell_type": "code",
   "execution_count": 103,
   "id": "f9447463",
   "metadata": {},
   "outputs": [],
   "source": [
    "#no_unicode_line=re.sub(r'[\\\\x00-\\\\x7f]','',no_url_line)\n",
    "#     no_unicode_line = no_unicode_line.replace('\\\\xf0\\\\x9f\\\\x87\\\\xba','').replace('\\\\xf0\\\\x9f\\\\x87\\\\xb8','').replace('\\\\xf0\\\\x9f\\\\x8f\\\\x9b','').replace('\\\\xf0\\\\x9f\\\\x98\\\\x86','').replace('\\\\xf0\\\\x9f\\\\xa4\\\\xa3','').replace('\\\\xf0\\\\x9f\\\\xa7\\\\xb5','').replace('\\\\xf0\\\\x9f\\\\xa4\\\\x94','').replace('\\\\xf0\\\\x9f\\\\x98\\\\x82','').replace('\\\\xf0\\\\x9f\\\\x92\\\\xaf','').replace('\\\\xf0\\\\x9f\\\\x94\\\\xa5','').replace('\\\\xf0\\\\x9f\\\\x8e\\\\xa4','').replace('\\\\xe2\\\\xac\\\\x87','').replace('\\\\xef\\\\xb8\\\\x8f','').replace('\\\\xf0\\\\x9f\\\\x98\\\\xa1','').replace('\\\\xf0\\\\x9f\\\\x99\\\\x84','').replace('\\\\xc2\\\\xbb','').replace('\\\\xe2\\\\x98\\\\x84','').replace('\\\\xef\\\\xb8\\\\x8f','').replace('\\\\xf0\\\\x9f\\\\xa5\\\\xba','').replace('\\\\xf0\\\\x9f\\\\x8c\\\\x8a','').replace('\\\\xf0\\\\x9f\\\\x8c\\\\x8a','').replace('\\\\xe2\\\\x9c\\\\x8c','').replace('\\\\xf0\\\\x9f\\\\x8f\\\\xbf','').replace('\\\\xe2\\\\x9a\\\\xa1','').replace('\\\\xef\\\\xb8\\\\x8f','').replace('\\\\xf0\\\\x9f\\\\x98\\\\x82','').replace('\\\\xf0\\\\x9f\\\\xa7\\\\xb5','').replace('\\\\xf0\\\\x9f\\\\x91\\\\x8d','').replace('\\\\xf0\\\\x9f\\\\x8f\\\\xbb','').replace('\\\\xf0\\\\x9f\\\\x8f\\\\xbc','').replace('\\\\xf0\\\\x9f\\\\xa4\\\\xac','').replace('\\\\xf0\\\\x9f\\\\x98\\\\xb3','').replace('\\\\xf0\\\\x9f\\\\x98\\\\x80','')\n",
    "#     no_unicode_line = no_unicode_line.replace('\\\\xf0\\\\x9f\\\\x93\\\\x96','').replace('\\\\xf0\\\\x9f\\\\xa4\\\\xb7','').replace('\\\\xf0\\\\x9f\\\\x8f\\\\xbd','').replace('\\\\xe2\\\\x80\\\\x8d\\\\','').replace('xe2\\\\x99\\\\x80','').replace('\\\\xef\\\\xb8\\\\x8f','').replace('\\\\xf0\\\\x9f\\\\x99\\\\x8f','').replace('\\\\xf0\\\\x9f\\\\x8f\\\\xbb','').replace('\\\\xf0\\\\x9f\\\\xa4\\\\xa1','').replace('\\\\xf0\\\\x9f\\\\x99\\\\x8f','').replace('\\\\\\\\xf0\\\\x9f\\\\x98\\\\x8a','').replace('\\\\xf0\\\\x9f\\\\x98\\\\x82','').replace('\\\\xf0\\\\x9f\\\\x92\\\\xaf','').replace('\\\\xf0\\\\x9f\\\\x94\\\\xa5','').replace('\\\\xf0\\\\x9f\\\\x8e\\\\xa4','').replace('\\\\xe2\\\\xac\\\\x87\\\\xef\\\\xb8','').replace('\\\\x8f\\\\xf0\\\\x9f\\\\x98\\\\xa1','').replace('\\\\xf0\\\\x9f\\\\x99\\\\x84','').replace('\\\\xc2\\\\xbb','').replace('\\\\xe2\\\\x98\\\\x84','').replace('\\\\xef\\\\xb8\\\\x8f','').replace('\\\\xf0\\\\x9f\\\\xa5\\\\xba','').replace('\\\\xf0\\\\x9f\\\\x8c\\\\x8a','').replace('\\\\xf0\\\\x9f\\\\x8c\\\\x8a','').replace('\\\\xf0\\\\x9f\\\\x8f\\\\xbb','').replace('\\\\xf0\\\\x9f\\\\x8f\\\\xbb','').replace('\\\\xf0\\\\x9f\\\\x94\\\\xa5','').replace('\\\\xf0\\\\x9f\\\\x98\\\\x85','').replace('\\\\xe2\\\\xac\\\\x87','').replace('\\\\xef\\\\xb8\\\\x8f','').replace('\\\\xf0\\\\x9f\\\\x92\\\\x95','').replace('\\\\xf0\\\\x9f\\\\x91\\\\x80','').replace('\\\\xe2\\\\x9c\\\\x85','').replace('\\\\xc2\\\\xb0','').replace('\\\\xf0\\\\x9f\\\\xa4\\\\xa6','').replace('\\\\xf0\\\\x9f\\\\x8f\\\\xbb','').replace('\\\\xe2\\\\x80\\\\x8d','').replace('\\\\xe2\\\\x99\\\\x80','').replace('\\\\xef\\\\xb8\\\\x8f','')\n",
    "#     no_unicode_line = no_unicode_line.replace('\\\\xf0\\\\x9f\\\\x8c\\\\xb9','').replace('\\\\xe3\\\\x80\\\\x80','').replace('\\\\xe2\\\\x99\\\\xa5','').replace('\\\\xef\\\\xb8\\\\x8f','').replace('\\\\xe2\\\\x99\\\\xa5','').replace('\\\\xef\\\\xb8\\\\x8f','').replace('\\\\xe2\\\\x99\\\\xa5','').replace('\\\\xef\\\\xb8\\\\x8f','').replace('\\\\xf0\\\\x9f\\\\x8c\\\\xb9','').replace('\\\\xf0\\\\x9f\\\\xa5\\\\x82','').replace('\\\\xe3\\\\x80\\\\x80','').replace('\\\\xf0\\\\x9f\\\\xa4\\\\xb7','').replace('\\\\xe2\\\\x80\\\\x8d','').replace('\\\\xe2\\\\x99\\\\x80','').replace('\\\\xef\\\\xb8\\\\x8f','').replace('\\\\xe2\\\\x9d\\\\xa4','').replace('\\\\xef\\\\xb8\\\\x8f','').replace('\\\\xf0\\\\x9f\\\\x87\\\\xb1','').replace('\\\\xf0\\\\x9f\\\\x87\\\\xb7','').replace('\\\\xe2\\\\x9d\\\\xa4','').replace('\\\\xef\\\\xb8\\\\x8f','').replace('\\\\xf0\\\\x9f\\\\x99\\\\x81','').replace('\\\\xf0\\\\x9f\\\\xa4\\\\xa5','').replace('\\\\xf0\\\\x9f\\\\xa4\\\\xa5','').replace('\\\\xf0\\\\x9f\\\\x87\\\\xb7','').replace('\\\\xf0\\\\x9f\\\\x87\\\\xba','').replace('\\\\xf0\\\\x9f\\\\x87\\\\xb7','').replace('\\\\xf0\\\\x9f\\\\x87\\\\xba','').replace('\\\\xf0\\\\x9f\\\\x91\\\\xb9','').replace('\\\\xf0\\\\x9f\\\\xa4\\\\xad','').replace('\\\\xf0\\\\x9f\\\\xa4\\\\xad','').replace('\\\\xf0\\\\x9f\\\\x98\\\\xb5','').replace('\\\\xe2\\\\x80\\\\x8d','').replace('\\\\xf0\\\\x9f\\\\x92\\\\xab','').replace('\\\\xf0\\\\x9f\\\\xa4\\\\xa6','').replace('\\\\xe2\\\\x80\\\\x8d','').replace('\\\\xe2\\\\x99\\\\x80','').replace('\\\\xef\\\\xb8\\\\x8f','').replace('\\\\xf0\\\\x9f\\\\x92\\\\x99','').replace('\\\\xe2\\\\x9d\\\\xa4','').replace('\\\\xef\\\\xb8\\\\x8f','').replace('\\\\xe2\\\\x9d\\\\xa4','').replace('\\\\xef\\\\xb8\\\\x8f','').replace('\\\\xf0\\\\x9f\\\\x8f\\\\xbb','').replace('\\\\xe2\\\\x9d\\\\xa4','').replace('\\\\xef\\\\xb8\\\\x8f','').replace('\\\\xe2\\\\xa4\\\\xb5','').replace('\\\\xef\\\\xb8\\\\x8f','').replace('\\\\xf0\\\\x9f\\\\x92\\\\x81','').replace('\\\\xf0\\\\x9f\\\\x8f\\\\xbb','').replace('\\\\xe2\\\\x80\\\\x8d','').replace('\\\\xe2\\\\x99\\\\x82','').replace('\\\\xef\\\\xb8\\\\x8f','').replace('\\\\xf0\\\\x9f\\\\x96\\\\x95','').replace('\\\\xe2\\\\x99\\\\xa6','').replace('\\\\xef\\\\xb8\\\\x8f','').replace('\\\\xe2\\\\x99\\\\xa6','').replace('\\\\xef\\\\xb8\\\\x8f','').replace('\\\\xf0\\\\x9f\\\\x8c\\\\xba','').replace('\\\\xf0\\\\x9f\\\\x98\\\\x8f','').replace('\\\\xf0\\\\x9f\\\\xa4\\\\xa6','').replace('\\\\xf0\\\\x9f\\\\x8f\\\\xbb','').replace('\\\\xe2\\\\x80\\\\x8d','').replace('\\\\xe2\\\\x99\\\\x80','').replace('\\\\xef\\\\xb8\\\\x8f','')\n",
    "#     no_unicode_line = no_unicode_line.replace('\\\\xf0\\\\x9f\\\\x8f\\\\xbd','').replace('\\\\xf0\\\\x9f\\\\x87\\\\xae\\\\xf0\\\\x9f\\\\x87\\\\xb3','').replace('\\\\xf0\\\\x9f\\\\x91\\\\x86','').replace('\\\\xf0\\\\x9f\\\\x8c\\\\xb9\\\\xf0\\\\x9f\\\\xa5\\\\x82','').replace('\\\\xe3\\\\x80\\\\x80','').replace('\\\\xf0\\\\x9f\\\\xa4\\\\xb7','').replace('\\\\xe2\\\\x80\\\\x8d','').replace('\\\\xe2\\\\x99\\\\x80','').replace('\\\\xef\\\\xb8\\\\x8f','').replace('\\\\xe2\\\\x9d\\\\xa4','').replace('\\\\xef\\\\xb8\\\\x8f','').replace('\\\\xf0\\\\x9f\\\\x87\\\\xb1','').replace('\\\\xf0\\\\x9f\\\\x87\\\\xb7','').replace('\\\\xe2\\\\x9d\\\\xa4','').replace('\\\\xef\\\\xb8\\\\x8f','').replace('\\\\xf0\\\\x9f\\\\x99\\\\x81','').replace('\\\\xf0\\\\x9f\\\\xa4\\\\xa5','').replace('\\\\xf0\\\\x9f\\\\xa4\\\\xa5','').replace('\\\\xf0\\\\x9f\\\\x87\\\\xb7','').replace('\\\\xf0\\\\x9f\\\\x87\\\\xba','').replace('\\\\xf0\\\\x9f\\\\x87\\\\xb7','').replace('\\\\xf0\\\\x9f\\\\x87\\\\xba','').replace('\\\\xf0\\\\x9f\\\\x91\\\\xb9','').replace('\\\\xf0\\\\x9f\\\\xa4\\\\xad','').replace('\\\\xf0\\\\x9f\\\\xa4\\\\xad','').replace('\\\\xf0\\\\x9f\\\\x98\\\\xb5','').replace('\\\\xe2\\\\x80\\\\x8d','').replace('\\\\xf0\\\\x9f\\\\x92\\\\xab','').replace('\\\\xf0\\\\x9f\\\\xa4\\\\xa6','').replace('\\\\xe2\\\\x80\\\\x8d','').replace('\\\\xe2\\\\x99\\\\x80','').replace('\\\\xef\\\\xb8\\\\x8f','').replace('\\\\xf0\\\\x9f\\\\x92\\\\x99','').replace('\\\\xe2\\\\x9d\\\\xa4','').replace('\\\\xef\\\\xb8\\\\x8f','').replace('\\\\xe2\\\\x9d\\\\xa4','').replace('\\\\xef\\\\xb8\\\\x8f','').replace('\\\\xf0\\\\x9f\\\\x8f\\\\xbb','').replace('\\\\xe2\\\\x9d\\\\xa4','').replace('\\\\xef\\\\xb8\\\\x8f','').replace('\\\\xe2\\\\xa4\\\\xb5','').replace('\\\\xef\\\\xb8\\\\x8f','').replace('\\\\xf0\\\\x9f\\\\x92\\\\x81','').replace('\\\\xf0\\\\x9f\\\\x8f\\\\xbb','').replace('\\\\xe2\\\\x80\\\\x8d','').replace('\\\\xe2\\\\x99\\\\x82','').replace('\\\\xef\\\\xb8\\\\x8f','').replace('\\\\xf0\\\\x9f\\\\x96\\\\x95','').replace('\\\\xe2\\\\x99\\\\xa6\\\\xef\\\\xb8\\\\x8f','').replace('\\\\xe2\\\\x99\\\\xa6','').replace('\\\\xef\\\\xb8\\\\x8f','').replace('\\\\xf0\\\\x9f\\\\x8c\\\\xba','').replace('\\\\xf0\\\\x9f\\\\x98\\\\x8f','').replace('\\\\xf0\\\\x9f\\\\xa4\\\\xa6','').replace('\\\\xf0\\\\x9f\\\\x8f\\\\xbb','').replace('\\\\xe2\\\\x80\\\\x8d','').replace('\\\\xe2\\\\x99\\\\x80','').replace('\\\\xef\\\\xb8\\\\x8f','')\n",
    "#     no_unicode_line = no_unicode_line.replace('\\\\xe2\\\\x80\\\\x9c','').replace('\\\\xe2\\\\x80\\\\x9d','').replace('\\\\xe2\\\\x80\\\\xa6','').replace('\\\\xe2\\\\x80\\\\x99',\"'\").replace('\\\\xf0\\\\x9f\\\\x9a\\\\xa8','').replace('\\\\xc2\\\\xa0','').replace('\\\\xe2\\\\x80\\\\x98','').replace('\\\\xe2\\\\x80\\\\x94','').replace('\\\\xf0\\\\x9f\\\\x98\\\\xa2','').replace('\\\\xf0\\\\x9f\\\\x98\\\\xa2','').replace('\\\\xf0\\\\x9f\\\\x91\\\\x87','').replace('\\\\xf0\\\\x9f\\\\x87\\\\xba','').replace('\\\\xf0\\\\x9f\\\\x87\\\\xb8','').replace('\\\\xf0\\\\x9f\\\\x8f\\\\x9b','').replace('\\\\xf0\\\\x9f\\\\x98\\\\x86','').replace('\\\\xf0\\\\x9f\\\\xa4\\\\xa3','').replace('\\\\xf0\\\\x9f\\\\xa7\\\\xb5','').replace('\\\\xf0\\\\x9f\\\\xa4\\\\x94','').replace('\\\\xf0\\\\x9f\\\\x98\\\\x82','').replace('\\\\xf0\\\\x9f\\\\x92\\\\xaf','').replace('\\\\xf0\\\\x9f\\\\x94\\\\xa5','').replace('\\\\xf0\\\\x9f\\\\x8e\\\\xa4','').replace('\\\\xe2\\\\xac\\\\x87','').replace('\\\\xef\\\\xb8\\\\x8f','').replace('\\\\xf0\\\\x9f\\\\x98\\\\xa1','').replace('\\\\xf0\\\\x9f\\\\x99\\\\x84','').replace('\\\\xc2\\\\xbb','').replace('\\\\xe2\\\\x98\\\\x84','').replace('\\\\xef\\\\xb8\\\\x8f','').replace('\\\\xf0\\\\x9f\\\\xa5\\\\xba','').replace('\\\\xf0\\\\x9f\\\\x8c\\\\x8a','').replace('\\\\xf0\\\\x9f\\\\x8c\\\\x8a','').replace('\\\\xe2\\\\x9c\\\\x8c','').replace('\\\\xf0\\\\x9f\\\\x8f\\\\xbf','').replace('\\\\xe2\\\\x9a\\\\xa1','').replace('\\\\xef\\\\xb8\\\\x8f','').replace('\\\\xf0\\\\x9f\\\\x98\\\\x82','').replace('\\\\xf0\\\\x9f\\\\xa7\\\\xb5','').replace('\\\\xf0\\\\x9f\\\\x91\\\\x8d','').replace('\\\\xf0\\\\x9f\\\\x8f\\\\xbb','').replace('\\\\xf0\\\\x9f\\\\x8f\\\\xbc','').replace('\\\\xf0\\\\x9f\\\\xa4\\\\xac','').replace('\\\\xf0\\\\x9f\\\\x98\\\\xb3','').replace('\\\\xf0\\\\x9f\\\\x98\\\\x80','').replace('\\\\xf0\\\\x9f\\\\x93\\\\x96','').replace('\\\\xf0\\\\x9f\\\\xa4\\\\xb7','').replace('\\\\xf0\\\\x9f\\\\x8f\\\\xbd','').replace('\\\\xe2\\\\x80\\\\x8d','').replace('\\\\xe2\\\\x99\\\\x80','').replace('\\\\xef\\\\xb8\\\\x8f','').replace('\\\\xf0\\\\x9f\\\\x99\\\\x8f','').replace('\\\\xf0\\\\x9f\\\\x8f\\\\xbb','').replace('\\\\xf0\\\\x9f\\\\xa4\\\\xa1','').replace('\\\\xf0\\\\x9f\\\\x99\\\\x8f','').replace('\\\\\\\\xf0\\\\x9f\\\\x98\\\\x8a','').replace('\\\\xf0\\\\x9f\\\\x98\\\\x82','').replace('\\\\xf0\\\\x9f\\\\x92\\\\xaf','').replace('\\\\xf0\\\\x9f\\\\x94\\\\xa5','').replace('\\\\xf0\\\\x9f\\\\x8e\\\\xa4','').replace('\\\\xe2\\\\xac\\\\x87','').replace('\\\\xef\\\\xb8\\\\x8f','').replace('\\\\xf0\\\\x9f\\\\x98\\\\xa1','').replace('\\\\xf0\\\\x9f\\\\x99\\\\x84','').replace('\\\\xc2\\\\xbb','').replace('\\\\xe2\\\\x98\\\\x84','').replace('\\\\xef\\\\xb8\\\\x8f','').replace('\\\\xf0\\\\x9f\\\\xa5\\\\xba','').replace('\\\\xf0\\\\x9f\\\\x8c\\\\x8a','').replace('\\\\xf0\\\\x9f\\\\x8c\\\\x8a','').replace('\\\\xf0\\\\x9f\\\\x8f\\\\xbb','').replace('\\\\xf0\\\\x9f\\\\x8f\\\\xbb','').replace('\\\\xf0\\\\x9f\\\\x94\\\\xa5','').replace('\\\\xf0\\\\x9f\\\\x98\\\\x85','').replace('\\\\xe2\\\\xac\\\\x87','').replace('\\\\xef\\\\xb8\\\\x8f','').replace('\\\\xf0\\\\x9f\\\\x92\\\\x95','').replace('\\\\xf0\\\\x9f\\\\x91\\\\x80','').replace('\\\\xe2\\\\x9c\\\\x85','').replace('\\\\xc2\\\\xb0','').replace('\\\\xf0\\\\x9f\\\\xa4\\\\xa6','').replace('\\\\xf0\\\\x9f\\\\x8f\\\\xbb','').replace('\\\\xe2\\\\x80\\\\x8d','').replace('\\\\xe2\\\\x99\\\\x80\\\\xef\\\\xb8\\\\x8f','').replace('\\\\xf0\\\\x9f\\\\x8c\\\\xb9','').replace('\\\\xe3\\\\x80\\\\x80','').replace('\\\\xe2\\\\x99\\\\xa5\\\\xef\\\\xb8\\\\x8f\\\\xe2\\\\x99\\\\xa5\\\\xef\\\\xb8\\\\x8f\\\\xe2\\\\x99\\\\xa5\\\\xef\\\\xb8\\\\x8f','').replace('\\\\xf0\\\\x9f\\\\x8c\\\\xb9\\\\xf0\\\\x9f\\\\xa5\\\\x82','').replace('\\\\xe3\\\\x80\\\\x80','').replace('\\\\xf0\\\\x9f\\\\xa4\\\\xb7\\\\xe2\\\\x80\\\\x8d\\\\xe2\\\\x99\\\\x80\\\\xef\\\\xb8\\\\x8f','').replace('\\\\xe2\\\\x9d\\\\xa4\\\\xef\\\\xb8\\\\x8f\\\\xf0\\\\x9f\\\\x87\\\\xb1\\\\xf0\\\\x9f\\\\x87\\\\xb7\\\\xe2\\\\x9d\\\\xa4\\\\xef\\\\xb8\\\\x8f','').replace('\\\\xf0\\\\x9f\\\\x99\\\\x81','').replace('\\\\xf0\\\\x9f\\\\xa4\\\\xa5\\\\xf0\\\\x9f\\\\xa4\\\\xa5\\\\xf0\\\\x9f\\\\x87\\\\xb7\\\\xf0\\\\x9f\\\\x87\\\\xba\\\\xf0\\\\x9f\\\\x87\\\\xb7\\\\xf0\\\\x9f\\\\x87\\\\xba\\\\xf0\\\\x9f\\\\x91\\\\xb9','').replace('\\\\xf0\\\\x9f\\\\xa4\\\\xad\\\\xf0\\\\x9f\\\\xa4\\\\xad\\\\xf0\\\\x9f\\\\x98\\\\xb5\\\\xe2\\\\x80\\\\x8d\\\\xf0\\\\x9f\\\\x92\\\\xab\\\\xf0\\\\x9f\\\\xa4\\\\xa6\\\\xe2\\\\x80\\\\x8d\\\\xe2\\\\x99\\\\x80\\\\xef\\\\xb8\\\\x8f','').replace('\\\\xf0\\\\x9f\\\\x92\\\\x99','').replace('\\\\xe2\\\\x9d\\\\xa4\\\\xef\\\\xb8\\\\x8f\\\\xe2\\\\x9d\\\\xa4\\\\xef\\\\xb8\\\\x8f','').replace('\\\\xf0\\\\x9f\\\\x8f\\\\xbb','').replace('\\\\xe2\\\\x9d\\\\xa4\\\\xef\\\\xb8\\\\x8f','').replace('\\\\xe2\\\\xa4\\\\xb5\\\\xef\\\\xb8\\\\x8f','').replace('\\\\xf0\\\\x9f\\\\x92\\\\x81','').replace('\\\\xf0\\\\x9f\\\\x8f\\\\xbb','').replace('\\\\xe2\\\\x80\\\\x8d','').replace('\\\\xe2\\\\x99\\\\x82','').replace('\\\\xef\\\\xb8\\\\x8f','').replace('\\\\xf0\\\\x9f\\\\x96\\\\x95','').replace('\\\\xe2\\\\x99\\\\xa6','').replace('\\\\xef\\\\xb8\\\\x8f','').replace('\\\\xe2\\\\x99\\\\xa6','').replace('\\\\xef\\\\xb8\\\\x8f','').replace('\\\\xf0\\\\x9f\\\\x8c\\\\xba','').replace('\\\\xf0\\\\x9f\\\\x98\\\\x8f','').replace('\\\\xf0\\\\x9f\\\\xa4\\\\xa6','').replace('\\\\xf0\\\\x9f\\\\x8f\\\\xbb','').replace('\\\\xe2\\\\x80\\\\x8d','').replace('\\\\xe2\\\\x99\\\\x80','').replace('\\\\xef\\\\xb8\\\\x8f','')\n",
    "#     no_uniocde_line = no_unicode_line.replace('\\\\xf0\\\\x9f\\\\x98\\\\x8a','').replace('\\\\xf0\\\\x9f\\\\x8c\\\\x8d','').replace('\\\\xf0\\\\x9f\\\\xa9\\\\xb8','').replace('\\\\xf0\\\\x9f\\\\x92\\\\xb0','').replace('\\\\xf0\\\\x9f\\\\x98\\\\xb0','').replace('\\\\xf0\\\\x9f\\\\xa5\\\\x82','').replace('\\\\xf0\\\\x9f\\\\x92\\\\x81','').replace('\\\\xe2\\\\x80\\\\x8d','').replace('\\\\xe2\\\\x99\\\\x82','').replace('\\\\xef\\\\xb8\\\\x8f','').replace('\\\\xf0\\\\x9f\\\\x98\\\\xae','').replace('\\\\xf0\\\\x9f\\\\x92\\\\x80','').replace('\\\\xc2\\\\xad','').replace('\\\\xf0\\\\x9f\\\\x98\\\\xae','').replace('\\\\xf0\\\\x9f\\\\x92\\\\x80','').replace('\\\\xf0\\\\x9f\\\\x99\\\\x8c','').replace('\\\\xf0\\\\x9f\\\\x8d\\\\x84','').replace('\\\\xe2\\\\x80\\\\x93','')"
   ]
  },
  {
   "cell_type": "code",
   "execution_count": null,
   "id": "5683129e",
   "metadata": {},
   "outputs": [],
   "source": []
  }
 ],
 "metadata": {
  "kernelspec": {
   "display_name": "Python 3 (ipykernel)",
   "language": "python",
   "name": "python3"
  },
  "language_info": {
   "codemirror_mode": {
    "name": "ipython",
    "version": 3
   },
   "file_extension": ".py",
   "mimetype": "text/x-python",
   "name": "python",
   "nbconvert_exporter": "python",
   "pygments_lexer": "ipython3",
   "version": "3.9.12"
  }
 },
 "nbformat": 4,
 "nbformat_minor": 5
}
